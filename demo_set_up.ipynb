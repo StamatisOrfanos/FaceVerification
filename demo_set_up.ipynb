{
 "cells": [
  {
   "attachments": {},
   "cell_type": "markdown",
   "metadata": {},
   "source": [
    "# This Notebook will create the Environment for the Demo"
   ]
  },
  {
   "cell_type": "code",
   "execution_count": 1,
   "metadata": {},
   "outputs": [],
   "source": [
    "# Import libraries\n",
    "import os\n",
    "import random\n",
    "import shutil\n",
    "\n",
    "\n",
    "# Load the constants for the data folders\n",
    "ANC_PATH = os.path.join('data', 'anchor')\n",
    "POS_PATH = os.path.join('data', 'positive')\n",
    "NEG_PATH = os.path.join('data', 'negative')"
   ]
  },
  {
   "attachments": {},
   "cell_type": "markdown",
   "metadata": {},
   "source": [
    "### Create the app folder and load verification images"
   ]
  },
  {
   "cell_type": "code",
   "execution_count": 2,
   "metadata": {},
   "outputs": [
    {
     "data": {
      "text/plain": [
       "'app/haarcascade_frontalface_default.xml'"
      ]
     },
     "execution_count": 2,
     "metadata": {},
     "output_type": "execute_result"
    }
   ],
   "source": [
    "# Create app folder and subfolders:  1. input (for input images from the app)   |    2. verification_images (for positive images to compare to)\n",
    "sub_folders = ['input', 'verification_image']\n",
    "\n",
    "os.makedirs('app', exist_ok=True)\n",
    "\n",
    "for sub_f in sub_folders:\n",
    "    os.makedirs(os.path.join('app', 'application_data', sub_f), exist_ok=True)\n",
    "\n",
    "\n",
    "# Copy 50 positive images to verification_images folder\n",
    "number_of_imgs = 50\n",
    "\n",
    "for file_num in range(number_of_imgs):\n",
    "    file_name = random.choice( os.listdir(POS_PATH))\n",
    "    shutil.move(os.path.join(POS_PATH, file_name), os.path.join('app', 'application_data', sub_folders[1]))\n",
    "\n",
    "\n",
    "# Copy the siamese.py model, along with teh L1Dist.py layer and the siameseModel.h5 to the app folder\n",
    "shutil.copy(os.path.join('siamese.py'), os.path.join('app'))\n",
    "shutil.copy(os.path.join('L1Dist.py'), os.path.join('app'))\n",
    "shutil.copy(os.path.join('embedding_layer.py'), os.path.join('app'))\n",
    "shutil.copy(os.path.join('siameseModel.h5'), os.path.join('app'))\n",
    "shutil.copy(os.path.join('haarcascade_frontalface_default.xml'), os.path.join('app'))"
   ]
  }
 ],
 "metadata": {
  "kernelspec": {
   "display_name": "base",
   "language": "python",
   "name": "python3"
  },
  "language_info": {
   "codemirror_mode": {
    "name": "ipython",
    "version": 3
   },
   "file_extension": ".py",
   "mimetype": "text/x-python",
   "name": "python",
   "nbconvert_exporter": "python",
   "pygments_lexer": "ipython3",
   "version": "3.10.9"
  },
  "orig_nbformat": 4
 },
 "nbformat": 4,
 "nbformat_minor": 2
}
