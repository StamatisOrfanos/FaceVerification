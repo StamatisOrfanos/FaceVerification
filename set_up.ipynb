{
 "cells": [
  {
   "attachments": {},
   "cell_type": "markdown",
   "metadata": {},
   "source": [
    "### Set up the project"
   ]
  },
  {
   "cell_type": "code",
   "execution_count": 5,
   "metadata": {},
   "outputs": [],
   "source": [
    "# Import standard libraries\n",
    "import random, os, uuid, shutil\n",
    "import cv2\n",
    "import numpy as np\n",
    "import matplotlib.pyplot as plt"
   ]
  },
  {
   "attachments": {},
   "cell_type": "markdown",
   "metadata": {},
   "source": [
    "### Set up the directories"
   ]
  },
  {
   "cell_type": "code",
   "execution_count": 6,
   "metadata": {},
   "outputs": [],
   "source": [
    "# Anchor is the folder with the images we are going to compare our positive images\n",
    "dirs = ['positive', 'negative', 'anchor']\n",
    "\n",
    "for dir in dirs:\n",
    "    os.makedirs(os.path.join('data', dir))"
   ]
  },
  {
   "attachments": {},
   "cell_type": "markdown",
   "metadata": {},
   "source": [
    "### Collect the data for the Anchor, Positive and Negative Folders"
   ]
  },
  {
   "attachments": {},
   "cell_type": "markdown",
   "metadata": {},
   "source": [
    "##### Negative data folder\n",
    "[Labeled Faces in the WIld Dataset](http://vis-www.cs.umass.edu/lfw/lfw.tgz)"
   ]
  },
  {
   "cell_type": "code",
   "execution_count": 7,
   "metadata": {},
   "outputs": [],
   "source": [
    "# Load the negative dataset, SOS we have 250x250 size images \n",
    "# (which means the positive and anchors need to be the same size) \n",
    "!tar -xf lfw.tgz"
   ]
  },
  {
   "cell_type": "code",
   "execution_count": 8,
   "metadata": {},
   "outputs": [],
   "source": [
    "# Move the uncompressed data to the data/negative folder\n",
    "\n",
    "negative_path = os.path.join('data', dirs[1])\n",
    "\n",
    "for person_folder in os.listdir('lfw'):\n",
    "    for image_file in os.listdir(os.path.join('lfw', person_folder)): \n",
    "        old_path_file = os.path.join('lfw', person_folder, image_file)\n",
    "        new_path_file = os.path.join(negative_path, image_file)\n",
    "        os.replace(old_path_file, new_path_file)\n",
    "\n",
    "\n",
    "# Now we can delete the lfw folder\n",
    "shutil.rmtree('lfw')"
   ]
  },
  {
   "attachments": {},
   "cell_type": "markdown",
   "metadata": {},
   "source": [
    "#### Positive and Anchor Data Folder"
   ]
  },
  {
   "attachments": {},
   "cell_type": "markdown",
   "metadata": {},
   "source": [
    "In this part of the project we faced an interesting OpenCv bug, where if we had one VideoCapture loop that included both the anchor and positive folder.\n",
    "The second if-case had a major delay by the first if-statement and we were only getting a fraction of the images taken, which led us to create a separate cell for each of the cases anchor and positive."
   ]
  },
  {
   "cell_type": "code",
   "execution_count": 9,
   "metadata": {},
   "outputs": [],
   "source": [
    "# Crop image function in order to get to the 250x250 size\n",
    "def crop_img(img, scale=1.0):\n",
    "    center_x, center_y = img.shape[1] / 2, img.shape[0] / 2\n",
    "    width_scaled, height_scaled = img.shape[1] * scale, img.shape[0] * scale\n",
    "    left_x, right_x = center_x - width_scaled / 2, center_x + width_scaled / 2\n",
    "    top_y, bottom_y = center_y - height_scaled / 2, center_y + height_scaled / 2\n",
    "    img_cropped = img[int(top_y):int(bottom_y), int(left_x):int(right_x)]\n",
    "    return img_cropped"
   ]
  },
  {
   "cell_type": "code",
   "execution_count": 10,
   "metadata": {},
   "outputs": [
    {
     "name": "stderr",
     "output_type": "stream",
     "text": [
      "[ WARN:0@175.999] global /private/var/folders/nz/j6p8yfhx1mv_0grj5xl4650h0000gp/T/abs_d9lyif19nl/croot/opencv-suite_1676472756314/work/modules/videoio/src/cap_gstreamer.cpp (862) isPipelinePlaying OpenCV | GStreamer warning: GStreamer: pipeline have not been created\n"
     ]
    },
    {
     "ename": "KeyboardInterrupt",
     "evalue": "",
     "output_type": "error",
     "traceback": [
      "\u001b[0;31m---------------------------------------------------------------------------\u001b[0m",
      "\u001b[0;31mKeyboardInterrupt\u001b[0m                         Traceback (most recent call last)",
      "Cell \u001b[0;32mIn[10], line 8\u001b[0m\n\u001b[1;32m      5\u001b[0m capture_obj \u001b[39m=\u001b[39m cv2\u001b[39m.\u001b[39mVideoCapture(\u001b[39m0\u001b[39m)\n\u001b[1;32m      7\u001b[0m \u001b[39mwhile\u001b[39;00m capture_obj\u001b[39m.\u001b[39misOpened():\n\u001b[0;32m----> 8\u001b[0m     ret, frame \u001b[39m=\u001b[39m capture_obj\u001b[39m.\u001b[39;49mread()\n\u001b[1;32m     10\u001b[0m     \u001b[39m# Add image to the anchor image folder\u001b[39;00m\n\u001b[1;32m     11\u001b[0m     \u001b[39mif\u001b[39;00m \u001b[39m0XFF\u001b[39m  \u001b[39m==\u001b[39m \u001b[39mord\u001b[39m(\u001b[39m'\u001b[39m\u001b[39ma\u001b[39m\u001b[39m'\u001b[39m):\n",
      "\u001b[0;31mKeyboardInterrupt\u001b[0m: "
     ]
    }
   ],
   "source": [
    "# In this cell we are going to collect the my images in order using OpenCV\n",
    "# With VideoCapture we choose the webcam driver (in the pc its the 0)\n",
    "anchor_dir   = os.path.join('data', dirs[2])\n",
    "\n",
    "capture_obj = cv2.VideoCapture(0)\n",
    "\n",
    "while capture_obj.isOpened():\n",
    "    ret, frame = capture_obj.read()\n",
    "        \n",
    "    # Add image to the anchor image folder\n",
    "    if cv2.waitKey(1) & 0XFF  == ord('a'):\n",
    "        img_file_a = os.path.join(anchor_dir, '{}.jpg'.format(uuid.uuid1()))\n",
    "        cv2.imwrite(img_file_a, crop_img(frame, 0.5))\n",
    "\n",
    "\n",
    "    # Return the frames, in order to be sure about the area\n",
    "    cv2.imshow(\"Collect Data\", frame)\n",
    "\n",
    "    # Quit the procedure of data collection\n",
    "    if cv2.waitKey(1) & 0XFF == ord('q'):\n",
    "        break\n",
    "\n",
    "\n",
    "# Free the webcam driver and close the python window\n",
    "capture_obj.release()\n",
    "cv2.destroyAllWindows()"
   ]
  },
  {
   "cell_type": "code",
   "execution_count": null,
   "metadata": {},
   "outputs": [],
   "source": [
    "# In this cell we are going to collect the my images in order using OpenCV\n",
    "# With VideoCapture we choose the webcam driver (in the pc its the 0)\n",
    "positive_dir = os.path.join('data', dirs[0])\n",
    "\n",
    "capture_obj = cv2.VideoCapture(0)\n",
    "\n",
    "while capture_obj.isOpened():\n",
    "    ret, frame = capture_obj.read()\n",
    "        \n",
    "    # Add image to the positive image folder\n",
    "    if cv2.waitKey(1) & 0XFF == ord('p'):\n",
    "        img_file_a = os.path.join(positive_dir, '{}.jpg'.format(uuid.uuid1()))\n",
    "        cv2.imwrite(img_file_a, crop_img(frame, 0.5))\n",
    "\n",
    "\n",
    "    # Return the frames, in order to be sure about the area\n",
    "    cv2.imshow(\"Collect Data\", frame)\n",
    "\n",
    "    # Quit the procedure of data collection\n",
    "    if cv2.waitKey(1) & 0XFF == ord('q'):\n",
    "        break\n",
    "\n",
    "\n",
    "# Free the webcam driver and close the python window\n",
    "capture_obj.release()\n",
    "cv2.destroyAllWindows()"
   ]
  }
 ],
 "metadata": {
  "kernelspec": {
   "display_name": "Python 3",
   "language": "python",
   "name": "python3"
  },
  "language_info": {
   "codemirror_mode": {
    "name": "ipython",
    "version": 3
   },
   "file_extension": ".py",
   "mimetype": "text/x-python",
   "name": "python",
   "nbconvert_exporter": "python",
   "pygments_lexer": "ipython3",
   "version": "3.10.9"
  },
  "orig_nbformat": 4
 },
 "nbformat": 4,
 "nbformat_minor": 2
}
