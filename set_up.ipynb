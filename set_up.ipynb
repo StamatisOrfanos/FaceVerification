{
 "cells": [
  {
   "attachments": {},
   "cell_type": "markdown",
   "metadata": {},
   "source": [
    "### Set up the project"
   ]
  },
  {
   "cell_type": "code",
   "execution_count": 1,
   "metadata": {},
   "outputs": [],
   "source": [
    "# Import standard libraries\n",
    "import os, uuid, shutil\n",
    "import cv2\n",
    "\n",
    "# Load Haar cascade classifier for face detection\n",
    "face_cascade = cv2.CascadeClassifier('haarcascade_frontalface_default.xml')"
   ]
  },
  {
   "attachments": {},
   "cell_type": "markdown",
   "metadata": {},
   "source": [
    "### Set up the directories"
   ]
  },
  {
   "cell_type": "code",
   "execution_count": 2,
   "metadata": {},
   "outputs": [],
   "source": [
    "# Anchor is the folder with the images we are going to compare our positive images\n",
    "dirs = ['positive', 'negative', 'anchor']\n",
    "\n",
    "for dir in dirs:\n",
    "    os.makedirs(os.path.join('data', dir))"
   ]
  },
  {
   "attachments": {},
   "cell_type": "markdown",
   "metadata": {},
   "source": [
    "### Collect the data for the Anchor, Positive and Negative Folders"
   ]
  },
  {
   "attachments": {},
   "cell_type": "markdown",
   "metadata": {},
   "source": [
    "##### Negative data folder\n",
    "[Labeled Faces in the WIld Dataset](http://vis-www.cs.umass.edu/lfw/lfw.tgz)"
   ]
  },
  {
   "cell_type": "code",
   "execution_count": 3,
   "metadata": {},
   "outputs": [],
   "source": [
    "# Load the negative dataset, SOS we have 250x250 size images \n",
    "# (which means the positive and anchors need to be the same size) \n",
    "!tar -xf lfw.tgz"
   ]
  },
  {
   "cell_type": "code",
   "execution_count": 4,
   "metadata": {},
   "outputs": [],
   "source": [
    "# Move the uncompressed data to the data/negative folder\n",
    "\n",
    "negative_path = os.path.join('data', dirs[1])\n",
    "\n",
    "for person_folder in os.listdir('lfw'):\n",
    "    for image_file in os.listdir(os.path.join('lfw', person_folder)): \n",
    "        old_path_file = os.path.join('lfw', person_folder, image_file)\n",
    "        new_path_file = os.path.join(negative_path, image_file)\n",
    "        os.replace(old_path_file, new_path_file)\n",
    "\n",
    "\n",
    "# Now we can delete the lfw folder\n",
    "shutil.rmtree('lfw')"
   ]
  },
  {
   "attachments": {},
   "cell_type": "markdown",
   "metadata": {},
   "source": [
    "#### Positive and Anchor Data Folder"
   ]
  },
  {
   "attachments": {},
   "cell_type": "markdown",
   "metadata": {},
   "source": [
    "In this part of the project we faced an interesting OpenCv bug, where if we had one VideoCapture loop that included both the anchor and positive folder.\n",
    "The second if-case had a major delay by the first if-statement and we were only getting a fraction of the images taken, which led us to create a separate cell for each of the cases anchor and positive."
   ]
  },
  {
   "cell_type": "code",
   "execution_count": 5,
   "metadata": {},
   "outputs": [
    {
     "name": "stderr",
     "output_type": "stream",
     "text": [
      "[ WARN:0@3.623] global /private/var/folders/nz/j6p8yfhx1mv_0grj5xl4650h0000gp/T/abs_d9lyif19nl/croot/opencv-suite_1676472756314/work/modules/videoio/src/cap_gstreamer.cpp (862) isPipelinePlaying OpenCV | GStreamer warning: GStreamer: pipeline have not been created\n"
     ]
    }
   ],
   "source": [
    "# In this cell we are going to collect the my images in order using OpenCV\n",
    "# With VideoCapture we choose the webcam driver (in the pc its the 0)\n",
    "anchor_dir   = os.path.join('data', dirs[2])\n",
    "\n",
    "capture_obj = cv2.VideoCapture(0)\n",
    "\n",
    "while capture_obj.isOpened():\n",
    "    ret, frame = capture_obj.read()\n",
    "        \n",
    "    # Convert frame to grayscale for face detection\n",
    "    gray = cv2.cvtColor(frame, cv2.COLOR_BGR2GRAY)\n",
    "\n",
    "    # Perform face detection\n",
    "    faces = face_cascade.detectMultiScale(gray, scaleFactor=1.3, minNeighbors=4, minSize=(60, 60))\n",
    "\n",
    "    # Iterate through the faces needed \n",
    "    for (x, y, w, h) in faces:\n",
    "        # Draw rectangle around the face on the frame (optional)\n",
    "        cv2.rectangle(frame, (x, y), (x + w, y + h), (255, 0, 0), 2)\n",
    "\n",
    "        # Crop the detected face region\n",
    "        face_roi = frame[y:y + h, x:x + w]\n",
    "\n",
    "        # Add cropped face to the anchor image folder\n",
    "        if cv2.waitKey(1) & 0xFF == ord('a'):\n",
    "            img_file_a = os.path.join(anchor_dir, '{}.jpg'.format(uuid.uuid1()))\n",
    "            cv2.imwrite(img_file_a, cv2.resize(face_roi, (250,250)))\n",
    "\n",
    "\n",
    "    # Return the frames, in order to be sure about the area\n",
    "    cv2.imshow(\"Collect Data\", frame)\n",
    "\n",
    "    # Quit the procedure of data collection\n",
    "    if cv2.waitKey(1) & 0XFF == ord('q'):\n",
    "        break\n",
    "\n",
    "\n",
    "# Free the webcam driver and close the python window\n",
    "capture_obj.release()\n",
    "cv2.destroyAllWindows()"
   ]
  },
  {
   "cell_type": "code",
   "execution_count": 8,
   "metadata": {},
   "outputs": [
    {
     "name": "stderr",
     "output_type": "stream",
     "text": [
      "[ WARN:0@247.162] global /private/var/folders/nz/j6p8yfhx1mv_0grj5xl4650h0000gp/T/abs_d9lyif19nl/croot/opencv-suite_1676472756314/work/modules/videoio/src/cap_gstreamer.cpp (862) isPipelinePlaying OpenCV | GStreamer warning: GStreamer: pipeline have not been created\n"
     ]
    },
    {
     "ename": "",
     "evalue": "",
     "output_type": "error",
     "traceback": [
      "\u001b[1;31mThe Kernel crashed while executing code in the the current cell or a previous cell. Please review the code in the cell(s) to identify a possible cause of the failure. Click <a href='https://aka.ms/vscodeJupyterKernelCrash'>here</a> for more info. View Jupyter <a href='command:jupyter.viewOutput'>log</a> for further details."
     ]
    }
   ],
   "source": [
    "# In this cell we are going to collect the my images in order using OpenCV\n",
    "# With VideoCapture we choose the webcam driver (in the pc its the 0)\n",
    "positive_dir = os.path.join('data', dirs[0])\n",
    "\n",
    "capture_obj = cv2.VideoCapture(0)\n",
    "\n",
    "while capture_obj.isOpened():\n",
    "    ret, frame = capture_obj.read()\n",
    "        \n",
    "    # Convert frame to grayscale for face detection\n",
    "    gray = cv2.cvtColor(frame, cv2.COLOR_BGR2GRAY)\n",
    "\n",
    "    # Perform face detection, for maximum two people in case of double verification\n",
    "    faces = face_cascade.detectMultiScale(gray, scaleFactor=1.3, minNeighbors=4, minSize=(60, 60))\n",
    "\n",
    "    # Iterate through the faces needed \n",
    "    for (x, y, w, h) in faces:\n",
    "        # Draw rectangle around the face on the frame (optional)\n",
    "        cv2.rectangle(frame, (x, y), (x + w, y + h), (255, 0, 0), 2)\n",
    "\n",
    "        # Crop the detected face region\n",
    "        face_roi = frame[y:y + h, x:x + w]\n",
    "\n",
    "        # Add cropped face to the anchor image folder\n",
    "        if cv2.waitKey(1) & 0xFF == ord('p'):\n",
    "            img_file_a = os.path.join(positive_dir, '{}.jpg'.format(uuid.uuid1()))\n",
    "            cv2.imwrite(img_file_a, cv2.resize(face_roi, (250,250)))\n",
    "\n",
    "\n",
    "    # Return the frames, in order to be sure about the area\n",
    "    cv2.imshow(\"Collect Data\", frame)\n",
    "\n",
    "    # Quit the procedure of data collection\n",
    "    if cv2.waitKey(1) & 0XFF == ord('q'):\n",
    "        break\n",
    "\n",
    "\n",
    "# Free the webcam driver and close the python window\n",
    "capture_obj.release()\n",
    "cv2.destroyAllWindows()"
   ]
  }
 ],
 "metadata": {
  "kernelspec": {
   "display_name": "Python 3",
   "language": "python",
   "name": "python3"
  },
  "language_info": {
   "codemirror_mode": {
    "name": "ipython",
    "version": 3
   },
   "file_extension": ".py",
   "mimetype": "text/x-python",
   "name": "python",
   "nbconvert_exporter": "python",
   "pygments_lexer": "ipython3",
   "version": "3.10.9"
  },
  "orig_nbformat": 4
 },
 "nbformat": 4,
 "nbformat_minor": 2
}
