{
 "cells": [
  {
   "attachments": {},
   "cell_type": "markdown",
   "metadata": {},
   "source": [
    "## Define the Siamese Model, Train and Evaluate Model "
   ]
  },
  {
   "attachments": {},
   "cell_type": "markdown",
   "metadata": {},
   "source": [
    "#### Load the Images datasets"
   ]
  },
  {
   "cell_type": "code",
   "execution_count": null,
   "metadata": {},
   "outputs": [],
   "source": [
    "# Load the libraries\n",
    "import os\n",
    "from siamese import Siamese\n",
    "from L1Dist import L1Dist\n",
    "import matplotlib.pyplot as plt\n",
    "import numpy as np\n",
    "import tensorflow as tf\n",
    "from tensorflow.keras.metrics import Precision, Recall\n",
    "    \n",
    "\n",
    "# Create the constants for the data folders\n",
    "ANC_PATH = os.path.join('data', 'anchor')\n",
    "POS_PATH = os.path.join('data', 'positive')\n",
    "NEG_PATH = os.path.join('data', 'negative')\n",
    "\n",
    "# Constants\n",
    "BATCH_SIZE     = 256\n",
    "PRE_FETCH_SIZE = 64\n",
    "LEARNING_RATE  = 1e-4\n",
    "EPOCHS = 50"
   ]
  },
  {
   "attachments": {},
   "cell_type": "markdown",
   "metadata": {},
   "source": [
    "#### Set GPU Growth \n",
    "\n",
    "In order to avoid OutOfMemory error we have to use GPU power."
   ]
  },
  {
   "cell_type": "code",
   "execution_count": null,
   "metadata": {},
   "outputs": [],
   "source": [
    "gpus = tf.config.experimental.list_physical_devices('GPU')\n",
    "\n",
    "for gpu in gpus:\n",
    "    tf.config.experimental.set_memory_growth(gpu, True)\n",
    "\n",
    "gpus"
   ]
  },
  {
   "attachments": {},
   "cell_type": "markdown",
   "metadata": {},
   "source": [
    "#### Load the data for the training"
   ]
  },
  {
   "cell_type": "code",
   "execution_count": null,
   "metadata": {},
   "outputs": [],
   "source": [
    "# Load 400 of the paths for each category (helps build a clean data pipeline)\n",
    "anchor_itt   = tf.data.Dataset.list_files(ANC_PATH + '/*.jpg').take(5000) # type: ignore\n",
    "positive_itt = tf.data.Dataset.list_files(POS_PATH + '/*.jpg').take(5000) # type: ignore\n",
    "negative_itt = tf.data.Dataset.list_files(NEG_PATH + '/*.jpg').take(5000) # type: ignore"
   ]
  },
  {
   "attachments": {},
   "cell_type": "markdown",
   "metadata": {},
   "source": [
    "#### Data Preprocessing  "
   ]
  },
  {
   "cell_type": "code",
   "execution_count": null,
   "metadata": {},
   "outputs": [],
   "source": [
    "# Normalize the image values from [0,255] to [0,1] for a better Gradient Descend process\n",
    "\n",
    "def normalize(image_path):\n",
    "    # Load image\n",
    "    byte_img = tf.io.read_file(image_path)\n",
    "    img = tf.io.decode_jpeg(byte_img)\n",
    "\n",
    "    # Normalize in [0,1] and resize to 100x100x3 for the model\n",
    "    img = tf.image.resize(img, (100,100))\n",
    "    img = img / 255.0\n",
    "\n",
    "    return img"
   ]
  },
  {
   "attachments": {},
   "cell_type": "markdown",
   "metadata": {},
   "source": [
    "#### Create labeled dataset"
   ]
  },
  {
   "cell_type": "code",
   "execution_count": null,
   "metadata": {},
   "outputs": [],
   "source": [
    "# Create a dataset that includes both positive and negative examples\n",
    "positive = tf.data.Dataset.zip((anchor_itt, positive_itt, tf.data.Dataset.from_tensor_slices(tf.ones(len(anchor_itt))))) # type: ignore\n",
    "negative = tf.data.Dataset.zip((anchor_itt, negative_itt, tf.data.Dataset.from_tensor_slices(tf.zeros(len(anchor_itt))))) # type: ignore\n",
    "\n",
    "dataset = tf.data.Dataset.concatenate(positive, negative)"
   ]
  },
  {
   "attachments": {},
   "cell_type": "markdown",
   "metadata": {},
   "source": [
    "#### Create the Train-Test datasets"
   ]
  },
  {
   "cell_type": "code",
   "execution_count": null,
   "metadata": {},
   "outputs": [],
   "source": [
    "# Create a normalize function for the dataset object that has type (path, path, label)\n",
    "def data_normalize(input_img, val_image, label):\n",
    "    return(normalize(input_img), normalize(val_image), label)"
   ]
  },
  {
   "cell_type": "code",
   "execution_count": null,
   "metadata": {},
   "outputs": [],
   "source": [
    "# Normalize all the data of the dataset and build the data pipeline (need to shuffle)\n",
    "dataset = dataset.map(data_normalize)\n",
    "dataset = dataset.cache()\n",
    "dataset = dataset.shuffle(buffer_size=1024)"
   ]
  },
  {
   "cell_type": "code",
   "execution_count": null,
   "metadata": {},
   "outputs": [],
   "source": [
    "# Train-Test split\n",
    "train, test = tf.keras.utils.split_dataset(dataset, left_size=0.8)\n",
    "\n",
    "# Create the batch size to train and test the model\n",
    "train = train.batch(BATCH_SIZE)\n",
    "train = train.prefetch(PRE_FETCH_SIZE)\n",
    "\n",
    "test = test.batch(BATCH_SIZE)\n",
    "test = test.prefetch(PRE_FETCH_SIZE)"
   ]
  },
  {
   "attachments": {},
   "cell_type": "markdown",
   "metadata": {},
   "source": [
    "### Define the Siamese Model"
   ]
  },
  {
   "cell_type": "code",
   "execution_count": null,
   "metadata": {},
   "outputs": [],
   "source": [
    "# Create the Siamese model\n",
    "siamese_model = Siamese.siamese_model()\n",
    "siamese_model.summary()"
   ]
  },
  {
   "attachments": {},
   "cell_type": "markdown",
   "metadata": {},
   "source": [
    "### Training"
   ]
  },
  {
   "cell_type": "code",
   "execution_count": null,
   "metadata": {},
   "outputs": [],
   "source": [
    "# Basic Info for training\n",
    "\n",
    "# Define the loss and optimizer model\n",
    "binary_cross_loss = tf.losses.BinaryCrossentropy()\n",
    "opt = tf.optimizers.Adam(LEARNING_RATE)\n",
    "\n",
    "# Create checkpoint directory\n",
    "os.makedirs('training_checkpoints')\n",
    "checkpoints_dir = './training_checkpoints'\n",
    "checkpoint_prefix = os.path.join(checkpoints_dir, \"checkpoint\")\n",
    "checkpoint = tf.train.Checkpoint(opt=opt, siamese_model=siamese_model)\n"
   ]
  },
  {
   "cell_type": "code",
   "execution_count": null,
   "metadata": {},
   "outputs": [],
   "source": [
    "@tf.function\n",
    "def train_step(batch):  \n",
    "    # Record all of our operations \n",
    "    with tf.GradientTape() as tape:   \n",
    "\n",
    "        # Get anchor and positive/negative image\n",
    "        X = batch[:2]\n",
    "        # Get label\n",
    "        y = batch[2]\n",
    "        \n",
    "        # Forward pass\n",
    "        y_pred = siamese_model(X, training=True)\n",
    "        # Calculate loss\n",
    "        loss = binary_cross_loss(y, y_pred)\n",
    "        \n",
    "    # Calculate gradients\n",
    "    grad = tape.gradient(loss, siamese_model.trainable_variables)\n",
    "    \n",
    "    # Calculate updated weights and apply to siamese model\n",
    "    opt.apply_gradients(zip(grad, siamese_model.trainable_variables))\n",
    "    \n",
    "    # Return loss\n",
    "    return loss"
   ]
  },
  {
   "cell_type": "code",
   "execution_count": null,
   "metadata": {},
   "outputs": [],
   "source": [
    "# Define the train function\n",
    "def train_model(train_data, epochs):\n",
    "\n",
    "    # Loop through epochs\n",
    "    for epoch in range(1, epochs+1):\n",
    "        loss_per_batch = []\n",
    "        print('Results for Epoch: {}'.format(epoch))\n",
    "        progress_bar = tf.keras.utils.Progbar(len(train_data))\n",
    "\n",
    "\n",
    "        # Loop through batches\n",
    "        for idx, batch in enumerate(train_data):\n",
    "            loss_b = train_step(batch)\n",
    "            loss_per_batch.append(loss_b)\n",
    "            progress_bar.update(idx+1)\n",
    "\n",
    "        print('The loss for the epoch: {0} is {1}'.format(epoch, sum(loss_per_batch)/len(loss_per_batch)))\n",
    "        # Save the checkpoints\n",
    "        if epoch % 10 == 0:\n",
    "            checkpoint.save(file_prefix=checkpoint_prefix)\n"
   ]
  },
  {
   "cell_type": "code",
   "execution_count": null,
   "metadata": {},
   "outputs": [],
   "source": [
    "train_model(train_data=train, epochs=EPOCHS)"
   ]
  },
  {
   "attachments": {},
   "cell_type": "markdown",
   "metadata": {},
   "source": [
    "### Evaluate Model\n",
    "\n",
    "In this part we have to take into consideration the goal of the model. The most important metric for a face verification system in precision, so we are going to use precision and recall as the accuracy metrics we want to evaluate."
   ]
  },
  {
   "cell_type": "code",
   "execution_count": null,
   "metadata": {},
   "outputs": [],
   "source": [
    "# Evaluate the model on the test data\n",
    "test_input, test_val, y_true = test.as_numpy_iterator().next()\n",
    "\n",
    "y_pred = siamese_model.predict([test_input, test_val])\n",
    "\n",
    "y_true = [int(x) for x in y_true]\n",
    "y_pred = [1 if prediction > 0.5 else 0 for prediction in y_pred]\n",
    "print('{0}\\n{1}'.format(y_true, y_pred))\n",
    "\n",
    "# Create the Precision object\n",
    "p = Precision()\n",
    "p.update_state(y_true, y_pred)\n",
    "precision = p.result().numpy()\n",
    "\n",
    "# Create the Precision object\n",
    "r = Recall()\n",
    "r.update_state(y_true, y_pred)\n",
    "recall = r.result().numpy()\n",
    "\n",
    "print(\"Precision: {0}\\nRecall: {1}\".format(precision, recall))"
   ]
  },
  {
   "attachments": {},
   "cell_type": "markdown",
   "metadata": {},
   "source": [
    "### Save Model"
   ]
  },
  {
   "cell_type": "code",
   "execution_count": null,
   "metadata": {},
   "outputs": [],
   "source": [
    "siamese_model.save('siameseModel.h5')"
   ]
  },
  {
   "attachments": {},
   "cell_type": "markdown",
   "metadata": {},
   "source": [
    "### Reload Model"
   ]
  },
  {
   "cell_type": "code",
   "execution_count": null,
   "metadata": {},
   "outputs": [],
   "source": [
    "model = tf.keras.models.load_model('siameseModel.h5', custom_objects={'siamese': Siamese, 'L1Dist': L1Dist})\n",
    "model.compile(optimizer='adam', loss='binary_crossentropy', metrics=['accuracy'])"
   ]
  }
 ],
 "metadata": {
  "kernelspec": {
   "display_name": "torch-gpu",
   "language": "python",
   "name": "python3"
  },
  "language_info": {
   "codemirror_mode": {
    "name": "ipython",
    "version": 3
   },
   "file_extension": ".py",
   "mimetype": "text/x-python",
   "name": "python",
   "nbconvert_exporter": "python",
   "pygments_lexer": "ipython3",
   "version": "3.10.9"
  },
  "orig_nbformat": 4
 },
 "nbformat": 4,
 "nbformat_minor": 2
}
