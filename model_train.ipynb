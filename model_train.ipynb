{
 "cells": [
  {
   "attachments": {},
   "cell_type": "markdown",
   "metadata": {},
   "source": [
    "## Define the Siamese Model, Train and Evaluate Model "
   ]
  },
  {
   "attachments": {},
   "cell_type": "markdown",
   "metadata": {},
   "source": [
    "#### Load the Images datasets"
   ]
  },
  {
   "cell_type": "code",
   "execution_count": 1,
   "metadata": {},
   "outputs": [],
   "source": [
    "# Load the libraries\n",
    "import os\n",
    "from siamese import Siamese\n",
    "from L1Dist import L1Dist\n",
    "import matplotlib.pyplot as plt\n",
    "import numpy as np\n",
    "import tensorflow as tf\n",
    "from tensorflow.keras.metrics import Precision, Recall\n",
    "    \n",
    "\n",
    "# Create the constants for the data folders\n",
    "ANC_PATH = os.path.join('data', 'anchor')\n",
    "POS_PATH = os.path.join('data', 'positive')\n",
    "NEG_PATH = os.path.join('data', 'negative')\n",
    "\n",
    "# Constants\n",
    "BATCH_SIZE     = 128\n",
    "PRE_FETCH_SIZE = 16\n",
    "LEARNING_RATE  = 1e-4\n",
    "EPOCHS = 50"
   ]
  },
  {
   "attachments": {},
   "cell_type": "markdown",
   "metadata": {},
   "source": [
    "#### Set GPU Growth \n",
    "\n",
    "In order to avoid OutOfMemory error we have to use GPU power."
   ]
  },
  {
   "cell_type": "code",
   "execution_count": 2,
   "metadata": {},
   "outputs": [
    {
     "data": {
      "text/plain": [
       "[PhysicalDevice(name='/physical_device:GPU:0', device_type='GPU')]"
      ]
     },
     "execution_count": 2,
     "metadata": {},
     "output_type": "execute_result"
    }
   ],
   "source": [
    "gpus = tf.config.experimental.list_physical_devices('GPU')\n",
    "\n",
    "for gpu in gpus:\n",
    "    tf.config.experimental.set_memory_growth(gpu, True)\n",
    "\n",
    "gpus"
   ]
  },
  {
   "attachments": {},
   "cell_type": "markdown",
   "metadata": {},
   "source": [
    "#### Load the data for the training"
   ]
  },
  {
   "cell_type": "code",
   "execution_count": 3,
   "metadata": {},
   "outputs": [
    {
     "name": "stdout",
     "output_type": "stream",
     "text": [
      "Metal device set to: Apple M2 Max\n",
      "\n",
      "systemMemory: 32.00 GB\n",
      "maxCacheSize: 10.67 GB\n",
      "\n"
     ]
    }
   ],
   "source": [
    "# Load 400 of the paths for each category (helps build a clean data pipeline)\n",
    "anchor_itt   = tf.data.Dataset.list_files(ANC_PATH + '/*.jpg').take(800)\n",
    "positive_itt = tf.data.Dataset.list_files(POS_PATH + '/*.jpg').take(800)\n",
    "negative_itt = tf.data.Dataset.list_files(NEG_PATH + '/*.jpg').take(800)"
   ]
  },
  {
   "attachments": {},
   "cell_type": "markdown",
   "metadata": {},
   "source": [
    "#### Data Preprocessing  "
   ]
  },
  {
   "cell_type": "code",
   "execution_count": 4,
   "metadata": {},
   "outputs": [],
   "source": [
    "# Normalize the image values from [0,255] to [0,1] for a better Gradient Descend process\n",
    "\n",
    "def normalize(image_path):\n",
    "    # Load image\n",
    "    byte_img = tf.io.read_file(image_path)\n",
    "    img = tf.io.decode_jpeg(byte_img)\n",
    "\n",
    "    # Normalize in [0,1] and resize to 100x100x3 for the model\n",
    "    img = tf.image.resize(img, (100,100))\n",
    "    img = img / 255.0\n",
    "\n",
    "    return img"
   ]
  },
  {
   "attachments": {},
   "cell_type": "markdown",
   "metadata": {},
   "source": [
    "#### Create labeled dataset"
   ]
  },
  {
   "cell_type": "code",
   "execution_count": 5,
   "metadata": {},
   "outputs": [],
   "source": [
    "# Create a dataset that includes both positive and negative examples\n",
    "positive = tf.data.Dataset.zip((anchor_itt, positive_itt, tf.data.Dataset.from_tensor_slices(tf.ones(len(anchor_itt))))) # type: ignore\n",
    "negative = tf.data.Dataset.zip((anchor_itt, negative_itt, tf.data.Dataset.from_tensor_slices(tf.zeros(len(anchor_itt))))) # type: ignore\n",
    "\n",
    "dataset = tf.data.Dataset.concatenate(positive, negative)"
   ]
  },
  {
   "attachments": {},
   "cell_type": "markdown",
   "metadata": {},
   "source": [
    "#### Create the Train-Test datasets"
   ]
  },
  {
   "cell_type": "code",
   "execution_count": 6,
   "metadata": {},
   "outputs": [],
   "source": [
    "# Create a normalize function for the dataset object that has type (path, path, label)\n",
    "def data_normalize(input_img, val_image, label):\n",
    "    return(normalize(input_img), normalize(val_image), label)"
   ]
  },
  {
   "cell_type": "code",
   "execution_count": 7,
   "metadata": {},
   "outputs": [],
   "source": [
    "# Normalize all the data of the dataset and build the data pipeline (need to shuffle)\n",
    "dataset = dataset.map(data_normalize)\n",
    "dataset = dataset.cache()\n",
    "dataset = dataset.shuffle(buffer_size=1024)"
   ]
  },
  {
   "cell_type": "code",
   "execution_count": 8,
   "metadata": {},
   "outputs": [
    {
     "name": "stderr",
     "output_type": "stream",
     "text": [
      "2023-06-19 19:46:07.024255: W tensorflow/tsl/platform/profile_utils/cpu_utils.cc:128] Failed to get CPU frequency: 0 Hz\n"
     ]
    }
   ],
   "source": [
    "# Train-Test split\n",
    "train, test = tf.keras.utils.split_dataset(dataset, left_size=0.8)\n",
    "\n",
    "# Create the batch size to train and test the model\n",
    "train = train.batch(BATCH_SIZE)\n",
    "train = train.prefetch(PRE_FETCH_SIZE)\n",
    "\n",
    "test = test.batch(BATCH_SIZE)\n",
    "test = test.prefetch(PRE_FETCH_SIZE)"
   ]
  },
  {
   "attachments": {},
   "cell_type": "markdown",
   "metadata": {},
   "source": [
    "### Define the Siamese Model"
   ]
  },
  {
   "cell_type": "code",
   "execution_count": 9,
   "metadata": {},
   "outputs": [
    {
     "name": "stdout",
     "output_type": "stream",
     "text": [
      "Model: \"SiameseModel\"\n",
      "__________________________________________________________________________________________________\n",
      " Layer (type)                   Output Shape         Param #     Connected to                     \n",
      "==================================================================================================\n",
      " input_image (InputLayer)       [(None, 100, 100, 3  0           []                               \n",
      "                                )]                                                                \n",
      "                                                                                                  \n",
      " validation_image (InputLayer)  [(None, 100, 100, 3  0           []                               \n",
      "                                )]                                                                \n",
      "                                                                                                  \n",
      " embedding (Functional)         (None, 4096)         38960448    ['input_image[0][0]',            \n",
      "                                                                  'validation_image[0][0]']       \n",
      "                                                                                                  \n",
      " l1_dist (L1Dist)               (None, 4096)         0           ['embedding[0][0]',              \n",
      "                                                                  'embedding[1][0]']              \n",
      "                                                                                                  \n",
      " dense_1 (Dense)                (None, 1)            4097        ['l1_dist[0][0]']                \n",
      "                                                                                                  \n",
      "==================================================================================================\n",
      "Total params: 38,964,545\n",
      "Trainable params: 38,964,545\n",
      "Non-trainable params: 0\n",
      "__________________________________________________________________________________________________\n"
     ]
    }
   ],
   "source": [
    "# Create the Siamese model\n",
    "siamese_model = Siamese.siamese_model()\n",
    "siamese_model.summary()"
   ]
  },
  {
   "attachments": {},
   "cell_type": "markdown",
   "metadata": {},
   "source": [
    "### Training"
   ]
  },
  {
   "cell_type": "code",
   "execution_count": 10,
   "metadata": {},
   "outputs": [
    {
     "name": "stderr",
     "output_type": "stream",
     "text": [
      "WARNING:absl:At this time, the v2.11+ optimizer `tf.keras.optimizers.Adam` runs slowly on M1/M2 Macs, please use the legacy Keras optimizer instead, located at `tf.keras.optimizers.legacy.Adam`.\n"
     ]
    }
   ],
   "source": [
    "# Basic Info for training\n",
    "\n",
    "# Define the loss and optimizer model\n",
    "binary_cross_loss = tf.losses.BinaryCrossentropy()\n",
    "opt = tf.optimizers.Adam(LEARNING_RATE)\n",
    "\n",
    "# Create checkpoint directory\n",
    "os.makedirs('training_checkpoints')\n",
    "checkpoints_dir = './training_checkpoints'\n",
    "checkpoint_prefix = os.path.join(checkpoints_dir, \"checkpoint\")\n",
    "checkpoint = tf.train.Checkpoint(opt=opt, siamese_model=siamese_model)\n"
   ]
  },
  {
   "cell_type": "code",
   "execution_count": 11,
   "metadata": {},
   "outputs": [],
   "source": [
    "@tf.function\n",
    "def train_step(batch):  \n",
    "    # Record all of our operations \n",
    "    with tf.GradientTape() as tape:   \n",
    "\n",
    "        # Get anchor and positive/negative image\n",
    "        X = batch[:2]\n",
    "        # Get label\n",
    "        y = batch[2]\n",
    "        \n",
    "        # Forward pass\n",
    "        y_pred = siamese_model(X, training=True)\n",
    "        # Calculate loss\n",
    "        loss = binary_cross_loss(y, y_pred)\n",
    "        \n",
    "    # Calculate gradients\n",
    "    grad = tape.gradient(loss, siamese_model.trainable_variables)\n",
    "    \n",
    "    # Calculate updated weights and apply to siamese model\n",
    "    opt.apply_gradients(zip(grad, siamese_model.trainable_variables))\n",
    "    \n",
    "    # Return loss\n",
    "    return loss"
   ]
  },
  {
   "cell_type": "code",
   "execution_count": 12,
   "metadata": {},
   "outputs": [],
   "source": [
    "# Define the train function\n",
    "def train_model(train_data, epochs):\n",
    "\n",
    "    # Loop through epochs\n",
    "    for epoch in range(1, epochs+1):\n",
    "        loss_per_batch = []\n",
    "        print('Results for Epoch: {}'.format(epoch))\n",
    "        progress_bar = tf.keras.utils.Progbar(len(train_data))\n",
    "\n",
    "\n",
    "        # Loop through batches\n",
    "        for idx, batch in enumerate(train_data):\n",
    "            loss_b = train_step(batch)\n",
    "            loss_per_batch.append(loss_b)\n",
    "            progress_bar.update(idx+1)\n",
    "\n",
    "        print('The loss for the epoch: {0} is {1}'.format(epoch, sum(loss_per_batch)/len(loss_per_batch)))\n",
    "        # Save the checkpoints\n",
    "        if epoch % 10 == 0:\n",
    "            checkpoint.save(file_prefix=checkpoint_prefix)\n"
   ]
  },
  {
   "cell_type": "code",
   "execution_count": 13,
   "metadata": {},
   "outputs": [
    {
     "name": "stdout",
     "output_type": "stream",
     "text": [
      "Results for Epoch: 1\n",
      "10/10 [==============================] - 2s 120ms/step\n",
      "The loss for the epoch: 1 is 0.7083441019058228\n",
      "Results for Epoch: 2\n",
      "10/10 [==============================] - 1s 132ms/step\n",
      "The loss for the epoch: 2 is 0.7169225215911865\n",
      "Results for Epoch: 3\n",
      "10/10 [==============================] - 1s 131ms/step\n",
      "The loss for the epoch: 3 is 0.6994489431381226\n",
      "Results for Epoch: 4\n",
      "10/10 [==============================] - 1s 133ms/step\n",
      "The loss for the epoch: 4 is 0.694183349609375\n",
      "Results for Epoch: 5\n",
      "10/10 [==============================] - 1s 128ms/step\n",
      "The loss for the epoch: 5 is 0.6975064873695374\n",
      "Results for Epoch: 6\n",
      "10/10 [==============================] - 1s 127ms/step\n",
      "The loss for the epoch: 6 is 0.696733295917511\n",
      "Results for Epoch: 7\n",
      "10/10 [==============================] - 1s 126ms/step\n",
      "The loss for the epoch: 7 is 0.6958667635917664\n",
      "Results for Epoch: 8\n",
      "10/10 [==============================] - 1s 126ms/step\n",
      "The loss for the epoch: 8 is 0.6966766119003296\n",
      "Results for Epoch: 9\n",
      "10/10 [==============================] - 1s 129ms/step\n",
      "The loss for the epoch: 9 is 0.6965551376342773\n",
      "Results for Epoch: 10\n",
      "10/10 [==============================] - 1s 127ms/step\n",
      "The loss for the epoch: 10 is 0.6964103579521179\n",
      "Results for Epoch: 11\n",
      "10/10 [==============================] - 1s 128ms/step\n",
      "The loss for the epoch: 11 is 0.6966063976287842\n",
      "Results for Epoch: 12\n",
      "10/10 [==============================] - 1s 126ms/step\n",
      "The loss for the epoch: 12 is 0.6965882182121277\n",
      "Results for Epoch: 13\n",
      "10/10 [==============================] - 1s 130ms/step\n",
      "The loss for the epoch: 13 is 0.696577787399292\n",
      "Results for Epoch: 14\n",
      "10/10 [==============================] - 1s 127ms/step\n",
      "The loss for the epoch: 14 is 0.6966314315795898\n",
      "Results for Epoch: 15\n",
      "10/10 [==============================] - 1s 126ms/step\n",
      "The loss for the epoch: 15 is 0.6966352462768555\n",
      "Results for Epoch: 16\n",
      "10/10 [==============================] - 1s 126ms/step\n",
      "The loss for the epoch: 16 is 0.6966438293457031\n",
      "Results for Epoch: 17\n",
      "10/10 [==============================] - 1s 125ms/step\n",
      "The loss for the epoch: 17 is 0.6966627240180969\n",
      "Results for Epoch: 18\n",
      "10/10 [==============================] - 1s 126ms/step\n",
      "The loss for the epoch: 18 is 0.6966695785522461\n",
      "Results for Epoch: 19\n",
      "10/10 [==============================] - 1s 128ms/step\n",
      "The loss for the epoch: 19 is 0.6966792345046997\n",
      "Results for Epoch: 20\n",
      "10/10 [==============================] - 1s 126ms/step\n",
      "The loss for the epoch: 20 is 0.6966933012008667\n",
      "Results for Epoch: 21\n",
      "10/10 [==============================] - 1s 127ms/step\n",
      "The loss for the epoch: 21 is 0.6966918706893921\n",
      "Results for Epoch: 22\n",
      "10/10 [==============================] - 1s 127ms/step\n",
      "The loss for the epoch: 22 is 0.6967001557350159\n",
      "Results for Epoch: 23\n",
      "10/10 [==============================] - 1s 126ms/step\n",
      "The loss for the epoch: 23 is 0.6967050433158875\n",
      "Results for Epoch: 24\n",
      "10/10 [==============================] - 1s 115ms/step\n",
      "The loss for the epoch: 24 is 0.6967083215713501\n",
      "Results for Epoch: 25\n",
      "10/10 [==============================] - 1s 126ms/step\n",
      "The loss for the epoch: 25 is 0.6967124342918396\n",
      "Results for Epoch: 26\n",
      "10/10 [==============================] - 1s 127ms/step\n",
      "The loss for the epoch: 26 is 0.6967175006866455\n",
      "Results for Epoch: 27\n",
      "10/10 [==============================] - 1s 126ms/step\n",
      "The loss for the epoch: 27 is 0.6967202425003052\n",
      "Results for Epoch: 28\n",
      "10/10 [==============================] - 1s 127ms/step\n",
      "The loss for the epoch: 28 is 0.6967267394065857\n",
      "Results for Epoch: 29\n",
      "10/10 [==============================] - 1s 130ms/step\n",
      "The loss for the epoch: 29 is 0.6967350840568542\n",
      "Results for Epoch: 30\n",
      "10/10 [==============================] - 1s 127ms/step\n",
      "The loss for the epoch: 30 is 0.6967400312423706\n",
      "Results for Epoch: 31\n",
      "10/10 [==============================] - 1s 127ms/step\n",
      "The loss for the epoch: 31 is 0.6967432498931885\n",
      "Results for Epoch: 32\n",
      "10/10 [==============================] - 1s 127ms/step\n",
      "The loss for the epoch: 32 is 0.6967339515686035\n",
      "Results for Epoch: 33\n",
      "10/10 [==============================] - 1s 129ms/step\n",
      "The loss for the epoch: 33 is 0.6967669725418091\n",
      "Results for Epoch: 34\n",
      "10/10 [==============================] - 1s 127ms/step\n",
      "The loss for the epoch: 34 is 0.6967597007751465\n",
      "Results for Epoch: 35\n",
      "10/10 [==============================] - 1s 127ms/step\n",
      "The loss for the epoch: 35 is 0.696761429309845\n",
      "Results for Epoch: 36\n",
      "10/10 [==============================] - 1s 130ms/step\n",
      "The loss for the epoch: 36 is 0.6967664361000061\n",
      "Results for Epoch: 37\n",
      "10/10 [==============================] - 1s 127ms/step\n",
      "The loss for the epoch: 37 is 0.6967490911483765\n",
      "Results for Epoch: 38\n",
      "10/10 [==============================] - 1s 128ms/step\n",
      "The loss for the epoch: 38 is 0.696738600730896\n",
      "Results for Epoch: 39\n",
      "10/10 [==============================] - 1s 128ms/step\n",
      "The loss for the epoch: 39 is 0.696723461151123\n",
      "Results for Epoch: 40\n",
      "10/10 [==============================] - 1s 116ms/step\n",
      "The loss for the epoch: 40 is 0.6967031359672546\n",
      "Results for Epoch: 41\n",
      "10/10 [==============================] - 1s 128ms/step\n",
      "The loss for the epoch: 41 is 0.696707010269165\n",
      "Results for Epoch: 42\n",
      "10/10 [==============================] - 1s 126ms/step\n",
      "The loss for the epoch: 42 is 0.6966944932937622\n",
      "Results for Epoch: 43\n",
      "10/10 [==============================] - 1s 126ms/step\n",
      "The loss for the epoch: 43 is 0.6966944336891174\n",
      "Results for Epoch: 44\n",
      "10/10 [==============================] - 1s 126ms/step\n",
      "The loss for the epoch: 44 is 0.6967024207115173\n",
      "Results for Epoch: 45\n",
      "10/10 [==============================] - 1s 127ms/step\n",
      "The loss for the epoch: 45 is 0.6967390179634094\n",
      "Results for Epoch: 46\n",
      "10/10 [==============================] - 1s 128ms/step\n",
      "The loss for the epoch: 46 is 0.6967374086380005\n",
      "Results for Epoch: 47\n",
      "10/10 [==============================] - 1s 129ms/step\n",
      "The loss for the epoch: 47 is 0.696746289730072\n",
      "Results for Epoch: 48\n",
      "10/10 [==============================] - 1s 129ms/step\n",
      "The loss for the epoch: 48 is 0.6966935396194458\n",
      "Results for Epoch: 49\n",
      "10/10 [==============================] - 1s 128ms/step\n",
      "The loss for the epoch: 49 is 0.696713924407959\n",
      "Results for Epoch: 50\n",
      "10/10 [==============================] - 1s 127ms/step\n",
      "The loss for the epoch: 50 is 0.6966589093208313\n"
     ]
    }
   ],
   "source": [
    "train_model(train_data=train, epochs=EPOCHS)"
   ]
  },
  {
   "attachments": {},
   "cell_type": "markdown",
   "metadata": {},
   "source": [
    "### Evaluate Model\n",
    "\n",
    "In this part we have to take into consideration the goal of the model. The most important metric for a face verification system in precision, so we are going to use precision and recall as the accuracy metrics we want to evaluate."
   ]
  },
  {
   "cell_type": "code",
   "execution_count": 14,
   "metadata": {},
   "outputs": [
    {
     "name": "stdout",
     "output_type": "stream",
     "text": [
      "4/4 [==============================] - 0s 8ms/step\n",
      "[1, 0, 1, 0, 1, 0, 1, 0, 0, 1, 1, 0, 1, 1, 0, 1, 1, 0, 1, 0, 0, 0, 1, 0, 1, 0, 1, 0, 0, 0, 1, 0, 0, 1, 0, 0, 1, 0, 0, 1, 1, 0, 0, 0, 1, 1, 1, 0, 1, 1, 0, 0, 1, 0, 1, 0, 0, 0, 0, 1, 1, 0, 1, 1, 1, 1, 1, 0, 0, 1, 1, 1, 0, 0, 0, 0, 0, 1, 0, 0, 0, 1, 0, 1, 1, 0, 1, 1, 1, 1, 0, 1, 0, 1, 0, 0, 0, 0, 0, 0, 1, 0, 0, 0, 1, 0, 0, 0, 1, 0, 0, 1, 0, 1, 0, 0, 0, 1, 0, 1, 0, 1, 0, 1, 1, 1, 1, 0]\n",
      "[0, 0, 0, 0, 0, 0, 0, 0, 0, 0, 0, 0, 0, 0, 0, 0, 0, 0, 0, 0, 0, 0, 0, 0, 0, 0, 0, 0, 0, 0, 0, 0, 0, 0, 0, 0, 0, 0, 0, 0, 0, 0, 0, 0, 0, 0, 0, 0, 0, 0, 0, 0, 0, 0, 0, 0, 0, 0, 0, 0, 0, 0, 0, 0, 0, 0, 0, 0, 0, 0, 0, 0, 0, 0, 0, 0, 0, 0, 0, 0, 0, 0, 0, 0, 0, 0, 0, 0, 0, 0, 0, 0, 0, 0, 0, 0, 0, 0, 0, 0, 0, 0, 0, 0, 0, 0, 0, 0, 0, 0, 0, 0, 0, 0, 0, 0, 0, 0, 0, 0, 0, 0, 0, 0, 0, 0, 0, 0]\n",
      "Precision: 0.0\n",
      "Recall: 0.0\n"
     ]
    }
   ],
   "source": [
    "# Evaluate the model on the test data\n",
    "test_input, test_val, y_true = test.as_numpy_iterator().next()\n",
    "\n",
    "y_pred = siamese_model.predict([test_input, test_val])\n",
    "\n",
    "y_true = [int(x) for x in y_true]\n",
    "y_pred = [1 if prediction > 0.5 else 0 for prediction in y_pred]\n",
    "print('{0}\\n{1}'.format(y_true, y_pred))\n",
    "\n",
    "# Create the Precision object\n",
    "p = Precision()\n",
    "p.update_state(y_true, y_pred)\n",
    "precision = p.result().numpy()\n",
    "\n",
    "# Create the Precision object\n",
    "r = Recall()\n",
    "r.update_state(y_true, y_pred)\n",
    "recall = r.result().numpy()\n",
    "\n",
    "print(\"Precision: {0}\\nRecall: {1}\".format(precision, recall))"
   ]
  },
  {
   "attachments": {},
   "cell_type": "markdown",
   "metadata": {},
   "source": [
    "### Save Model"
   ]
  },
  {
   "cell_type": "code",
   "execution_count": 15,
   "metadata": {},
   "outputs": [
    {
     "name": "stdout",
     "output_type": "stream",
     "text": [
      "WARNING:tensorflow:Compiled the loaded model, but the compiled metrics have yet to be built. `model.compile_metrics` will be empty until you train or evaluate the model.\n"
     ]
    },
    {
     "name": "stderr",
     "output_type": "stream",
     "text": [
      "WARNING:tensorflow:Compiled the loaded model, but the compiled metrics have yet to be built. `model.compile_metrics` will be empty until you train or evaluate the model.\n"
     ]
    }
   ],
   "source": [
    "siamese_model.save('siameseModel.h5')"
   ]
  },
  {
   "attachments": {},
   "cell_type": "markdown",
   "metadata": {},
   "source": [
    "### Reload Model"
   ]
  },
  {
   "cell_type": "code",
   "execution_count": 16,
   "metadata": {},
   "outputs": [
    {
     "name": "stdout",
     "output_type": "stream",
     "text": [
      "WARNING:tensorflow:No training configuration found in the save file, so the model was *not* compiled. Compile it manually.\n"
     ]
    },
    {
     "name": "stderr",
     "output_type": "stream",
     "text": [
      "WARNING:tensorflow:No training configuration found in the save file, so the model was *not* compiled. Compile it manually.\n"
     ]
    }
   ],
   "source": [
    "model = tf.keras.models.load_model('siameseModel.h5', custom_objects={'siamese': Siamese, 'L1Dist': L1Dist})\n",
    "model.compile(optimizer='adam', loss='binary_crossentropy', metrics=['accuracy'])"
   ]
  }
 ],
 "metadata": {
  "kernelspec": {
   "display_name": "torch-gpu",
   "language": "python",
   "name": "python3"
  },
  "language_info": {
   "codemirror_mode": {
    "name": "ipython",
    "version": 3
   },
   "file_extension": ".py",
   "mimetype": "text/x-python",
   "name": "python",
   "nbconvert_exporter": "python",
   "pygments_lexer": "ipython3",
   "version": "3.10.9"
  },
  "orig_nbformat": 4
 },
 "nbformat": 4,
 "nbformat_minor": 2
}
